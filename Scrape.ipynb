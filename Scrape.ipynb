{
 "cells": [
  {
   "cell_type": "code",
   "execution_count": 1,
   "id": "f1ffea4b",
   "metadata": {},
   "outputs": [],
   "source": [
    "# Importación de librerías\n",
    "\n",
    "import pandas as pd\n",
    "import time\n",
    "from selenium import webdriver"
   ]
  },
  {
   "cell_type": "code",
   "execution_count": 2,
   "id": "17dd8ac9",
   "metadata": {},
   "outputs": [],
   "source": [
    "# Acceder al Chrome Drive y a la URL de Linkedin con la publicación de vacantes para Cali\n",
    "url = \"https://www.linkedin.com/jobs/search/?keywords=&location=Cali%2C%20Valle%20del%20Cauca%2C%20Colombia&geoId=109642047&trk=public_jobs_jobs-search-bar_search-submit&position=1&pageNum=0\"\n",
    "\n",
    "wd = webdriver.Chrome(executable_path=\"/home/juan/Downloads/chromedriver_linux64/chromedriver\")\n",
    "wd.get(url)"
   ]
  },
  {
   "cell_type": "code",
   "execution_count": 3,
   "id": "cd7583a8",
   "metadata": {},
   "outputs": [
    {
     "name": "stdout",
     "output_type": "stream",
     "text": [
      "2000\n"
     ]
    }
   ],
   "source": [
    "# Número de vacantes publicadas\n",
    "no_jobs = wd.find_element_by_css_selector(\"h1>span\").get_attribute(\"innerText\")\n",
    "\n",
    "no_jobs = no_jobs.replace(\"+\", \"\")\n",
    "no_jobs = no_jobs.replace(\",\", \"\")\n",
    "no_jobs = int(no_jobs)\n",
    "\n",
    "print(no_jobs)"
   ]
  },
  {
   "cell_type": "code",
   "execution_count": 4,
   "id": "77cbdafb",
   "metadata": {},
   "outputs": [],
   "source": [
    "# Dar ckick en \"see more jobs\"\n",
    "i = 2\n",
    "while i <= int(no_jobs/25)+1: \n",
    "    wd.execute_script(\"window.scrollTo(0, document.body.scrollHeight);\")\n",
    "    i = i + 1\n",
    "try:\n",
    "    wd.find_element_by_xpath(\"/html/body/main/div/section/button\").click()\n",
    "    time.sleep(5)\n",
    "except:\n",
    "    pass\n",
    "time.sleep(5)"
   ]
  },
  {
   "cell_type": "code",
   "execution_count": 5,
   "id": "e960103c",
   "metadata": {},
   "outputs": [],
   "source": [
    "# Se obtiene el listado de elementos que aparecen sobre vacantes\n",
    "job_lists = wd.find_element_by_class_name(\"jobs-search__results-list\")\n",
    "jobs = job_lists.find_elements_by_tag_name(\"li\")"
   ]
  },
  {
   "cell_type": "code",
   "execution_count": 6,
   "id": "6f2925c8",
   "metadata": {},
   "outputs": [],
   "source": [
    "job_title = []\n",
    "company_name = []\n",
    "location = []\n",
    "date = []\n",
    "job_link = []"
   ]
  },
  {
   "cell_type": "code",
   "execution_count": 7,
   "id": "65842a81",
   "metadata": {},
   "outputs": [],
   "source": [
    "for job in jobs:\n",
    "\n",
    "    job_title0 = job.find_element_by_css_selector(\"h3\").get_attribute(\"innerText\")\n",
    "    job_title.append(job_title0)\n",
    "\n",
    "    company_name0 = job.find_element_by_css_selector(\"h4\").get_attribute(\"innerText\")\n",
    "    company_name.append(company_name0)\n",
    "\n",
    "    location0 = job.find_element_by_class_name(\"job-search-card__location\").get_attribute(\"innerText\")\n",
    "    location.append(location0)\n",
    "\n",
    "    date0 = job.find_element_by_css_selector(\"div>div>time\").get_attribute(\"datetime\")\n",
    "    date.append(date0)\n",
    "\n",
    "    job_link0 = job.find_element_by_css_selector(\"a\").get_attribute(\"href\")\n",
    "    job_link.append(job_link0)"
   ]
  },
  {
   "cell_type": "code",
   "execution_count": 8,
   "id": "e179aa28-7538-48a4-bd91-5fcfd497690a",
   "metadata": {},
   "outputs": [
    {
     "data": {
      "text/plain": [
       "<selenium.webdriver.remote.webelement.WebElement (session=\"ffcb4675793e7b31777b61dc98e1eec2\", element=\"374ac6d2-b838-4b15-8f0c-21aca848b521\")>"
      ]
     },
     "execution_count": 8,
     "metadata": {},
     "output_type": "execute_result"
    }
   ],
   "source": [
    "# //*[@id=\"main-content\"]/section/ul/li[1]/a/div[2]/h3\n",
    "\n",
    "# //*[@id=\"main-content\"]/section/ul/li[2]/div/div[2]/h3\n",
    "\n",
    "\n",
    "# /html/body/main/div/section[2]/ul/li[{item+1}]/img"
   ]
  },
  {
   "cell_type": "code",
   "execution_count": 8,
   "id": "238f3473-b206-4466-ba29-8c7d148f8971",
   "metadata": {},
   "outputs": [
    {
     "data": {
      "text/plain": [
       "[0, 1, 2, 3, 4, 5, 6, 7, 8, 9, 10, 11, 12]"
      ]
     },
     "execution_count": 8,
     "metadata": {},
     "output_type": "execute_result"
    }
   ],
   "source": [
    "# list(range(len(jobs)))"
   ]
  },
  {
   "cell_type": "code",
   "execution_count": 9,
   "id": "179a7e4c-ef72-4748-bd8d-82ac75256ee5",
   "metadata": {},
   "outputs": [
    {
     "ename": "NoSuchElementException",
     "evalue": "Message: no such element: Unable to locate element: {\"method\":\"xpath\",\"selector\":\"//*[@id=\"main-content\"]/section/ul/li[2]/a/div[2]/h3\"}\n  (Session info: chrome=91.0.4472.164)\n",
     "output_type": "error",
     "traceback": [
      "\u001b[0;31m---------------------------------------------------------------------------\u001b[0m",
      "\u001b[0;31mNoSuchElementException\u001b[0m                    Traceback (most recent call last)",
      "\u001b[0;32m/tmp/ipykernel_8183/4123485265.py\u001b[0m in \u001b[0;36m<module>\u001b[0;34m\u001b[0m\n\u001b[1;32m     13\u001b[0m     \u001b[0mjob_click_path\u001b[0m \u001b[0;34m=\u001b[0m \u001b[0;34mf'//*[@id=\"main-content\"]/section/ul/li[{item+1}]/a/div[2]/h3'\u001b[0m\u001b[0;34m\u001b[0m\u001b[0;34m\u001b[0m\u001b[0m\n\u001b[1;32m     14\u001b[0m \u001b[0;34m\u001b[0m\u001b[0m\n\u001b[0;32m---> 15\u001b[0;31m     \u001b[0mwd\u001b[0m\u001b[0;34m.\u001b[0m\u001b[0mfind_element_by_xpath\u001b[0m\u001b[0;34m(\u001b[0m\u001b[0mjob_click_path\u001b[0m\u001b[0;34m)\u001b[0m\u001b[0;34m.\u001b[0m\u001b[0mclick\u001b[0m\u001b[0;34m(\u001b[0m\u001b[0;34m)\u001b[0m\u001b[0;34m\u001b[0m\u001b[0;34m\u001b[0m\u001b[0m\n\u001b[0m\u001b[1;32m     16\u001b[0m     \u001b[0mtime\u001b[0m\u001b[0;34m.\u001b[0m\u001b[0msleep\u001b[0m\u001b[0;34m(\u001b[0m\u001b[0;36m5\u001b[0m\u001b[0;34m)\u001b[0m\u001b[0;34m\u001b[0m\u001b[0;34m\u001b[0m\u001b[0m\n\u001b[1;32m     17\u001b[0m \u001b[0;34m\u001b[0m\u001b[0m\n",
      "\u001b[0;32m~/Laboral/Demanda_laboral/labor_demand/lib/python3.8/site-packages/selenium/webdriver/remote/webdriver.py\u001b[0m in \u001b[0;36mfind_element_by_xpath\u001b[0;34m(self, xpath)\u001b[0m\n\u001b[1;32m    392\u001b[0m             \u001b[0melement\u001b[0m \u001b[0;34m=\u001b[0m \u001b[0mdriver\u001b[0m\u001b[0;34m.\u001b[0m\u001b[0mfind_element_by_xpath\u001b[0m\u001b[0;34m(\u001b[0m\u001b[0;34m'//div/td[1]'\u001b[0m\u001b[0;34m)\u001b[0m\u001b[0;34m\u001b[0m\u001b[0;34m\u001b[0m\u001b[0m\n\u001b[1;32m    393\u001b[0m         \"\"\"\n\u001b[0;32m--> 394\u001b[0;31m         \u001b[0;32mreturn\u001b[0m \u001b[0mself\u001b[0m\u001b[0;34m.\u001b[0m\u001b[0mfind_element\u001b[0m\u001b[0;34m(\u001b[0m\u001b[0mby\u001b[0m\u001b[0;34m=\u001b[0m\u001b[0mBy\u001b[0m\u001b[0;34m.\u001b[0m\u001b[0mXPATH\u001b[0m\u001b[0;34m,\u001b[0m \u001b[0mvalue\u001b[0m\u001b[0;34m=\u001b[0m\u001b[0mxpath\u001b[0m\u001b[0;34m)\u001b[0m\u001b[0;34m\u001b[0m\u001b[0;34m\u001b[0m\u001b[0m\n\u001b[0m\u001b[1;32m    395\u001b[0m \u001b[0;34m\u001b[0m\u001b[0m\n\u001b[1;32m    396\u001b[0m     \u001b[0;32mdef\u001b[0m \u001b[0mfind_elements_by_xpath\u001b[0m\u001b[0;34m(\u001b[0m\u001b[0mself\u001b[0m\u001b[0;34m,\u001b[0m \u001b[0mxpath\u001b[0m\u001b[0;34m)\u001b[0m\u001b[0;34m:\u001b[0m\u001b[0;34m\u001b[0m\u001b[0;34m\u001b[0m\u001b[0m\n",
      "\u001b[0;32m~/Laboral/Demanda_laboral/labor_demand/lib/python3.8/site-packages/selenium/webdriver/remote/webdriver.py\u001b[0m in \u001b[0;36mfind_element\u001b[0;34m(self, by, value)\u001b[0m\n\u001b[1;32m    974\u001b[0m                 \u001b[0mby\u001b[0m \u001b[0;34m=\u001b[0m \u001b[0mBy\u001b[0m\u001b[0;34m.\u001b[0m\u001b[0mCSS_SELECTOR\u001b[0m\u001b[0;34m\u001b[0m\u001b[0;34m\u001b[0m\u001b[0m\n\u001b[1;32m    975\u001b[0m                 \u001b[0mvalue\u001b[0m \u001b[0;34m=\u001b[0m \u001b[0;34m'[name=\"%s\"]'\u001b[0m \u001b[0;34m%\u001b[0m \u001b[0mvalue\u001b[0m\u001b[0;34m\u001b[0m\u001b[0;34m\u001b[0m\u001b[0m\n\u001b[0;32m--> 976\u001b[0;31m         return self.execute(Command.FIND_ELEMENT, {\n\u001b[0m\u001b[1;32m    977\u001b[0m             \u001b[0;34m'using'\u001b[0m\u001b[0;34m:\u001b[0m \u001b[0mby\u001b[0m\u001b[0;34m,\u001b[0m\u001b[0;34m\u001b[0m\u001b[0;34m\u001b[0m\u001b[0m\n\u001b[1;32m    978\u001b[0m             'value': value})['value']\n",
      "\u001b[0;32m~/Laboral/Demanda_laboral/labor_demand/lib/python3.8/site-packages/selenium/webdriver/remote/webdriver.py\u001b[0m in \u001b[0;36mexecute\u001b[0;34m(self, driver_command, params)\u001b[0m\n\u001b[1;32m    319\u001b[0m         \u001b[0mresponse\u001b[0m \u001b[0;34m=\u001b[0m \u001b[0mself\u001b[0m\u001b[0;34m.\u001b[0m\u001b[0mcommand_executor\u001b[0m\u001b[0;34m.\u001b[0m\u001b[0mexecute\u001b[0m\u001b[0;34m(\u001b[0m\u001b[0mdriver_command\u001b[0m\u001b[0;34m,\u001b[0m \u001b[0mparams\u001b[0m\u001b[0;34m)\u001b[0m\u001b[0;34m\u001b[0m\u001b[0;34m\u001b[0m\u001b[0m\n\u001b[1;32m    320\u001b[0m         \u001b[0;32mif\u001b[0m \u001b[0mresponse\u001b[0m\u001b[0;34m:\u001b[0m\u001b[0;34m\u001b[0m\u001b[0;34m\u001b[0m\u001b[0m\n\u001b[0;32m--> 321\u001b[0;31m             \u001b[0mself\u001b[0m\u001b[0;34m.\u001b[0m\u001b[0merror_handler\u001b[0m\u001b[0;34m.\u001b[0m\u001b[0mcheck_response\u001b[0m\u001b[0;34m(\u001b[0m\u001b[0mresponse\u001b[0m\u001b[0;34m)\u001b[0m\u001b[0;34m\u001b[0m\u001b[0;34m\u001b[0m\u001b[0m\n\u001b[0m\u001b[1;32m    322\u001b[0m             response['value'] = self._unwrap_value(\n\u001b[1;32m    323\u001b[0m                 response.get('value', None))\n",
      "\u001b[0;32m~/Laboral/Demanda_laboral/labor_demand/lib/python3.8/site-packages/selenium/webdriver/remote/errorhandler.py\u001b[0m in \u001b[0;36mcheck_response\u001b[0;34m(self, response)\u001b[0m\n\u001b[1;32m    240\u001b[0m                 \u001b[0malert_text\u001b[0m \u001b[0;34m=\u001b[0m \u001b[0mvalue\u001b[0m\u001b[0;34m[\u001b[0m\u001b[0;34m'alert'\u001b[0m\u001b[0;34m]\u001b[0m\u001b[0;34m.\u001b[0m\u001b[0mget\u001b[0m\u001b[0;34m(\u001b[0m\u001b[0;34m'text'\u001b[0m\u001b[0;34m)\u001b[0m\u001b[0;34m\u001b[0m\u001b[0;34m\u001b[0m\u001b[0m\n\u001b[1;32m    241\u001b[0m             \u001b[0;32mraise\u001b[0m \u001b[0mexception_class\u001b[0m\u001b[0;34m(\u001b[0m\u001b[0mmessage\u001b[0m\u001b[0;34m,\u001b[0m \u001b[0mscreen\u001b[0m\u001b[0;34m,\u001b[0m \u001b[0mstacktrace\u001b[0m\u001b[0;34m,\u001b[0m \u001b[0malert_text\u001b[0m\u001b[0;34m)\u001b[0m\u001b[0;34m\u001b[0m\u001b[0;34m\u001b[0m\u001b[0m\n\u001b[0;32m--> 242\u001b[0;31m         \u001b[0;32mraise\u001b[0m \u001b[0mexception_class\u001b[0m\u001b[0;34m(\u001b[0m\u001b[0mmessage\u001b[0m\u001b[0;34m,\u001b[0m \u001b[0mscreen\u001b[0m\u001b[0;34m,\u001b[0m \u001b[0mstacktrace\u001b[0m\u001b[0;34m)\u001b[0m\u001b[0;34m\u001b[0m\u001b[0;34m\u001b[0m\u001b[0m\n\u001b[0m\u001b[1;32m    243\u001b[0m \u001b[0;34m\u001b[0m\u001b[0m\n\u001b[1;32m    244\u001b[0m     \u001b[0;32mdef\u001b[0m \u001b[0m_value_or_default\u001b[0m\u001b[0;34m(\u001b[0m\u001b[0mself\u001b[0m\u001b[0;34m,\u001b[0m \u001b[0mobj\u001b[0m\u001b[0;34m,\u001b[0m \u001b[0mkey\u001b[0m\u001b[0;34m,\u001b[0m \u001b[0mdefault\u001b[0m\u001b[0;34m)\u001b[0m\u001b[0;34m:\u001b[0m\u001b[0;34m\u001b[0m\u001b[0;34m\u001b[0m\u001b[0m\n",
      "\u001b[0;31mNoSuchElementException\u001b[0m: Message: no such element: Unable to locate element: {\"method\":\"xpath\",\"selector\":\"//*[@id=\"main-content\"]/section/ul/li[2]/a/div[2]/h3\"}\n  (Session info: chrome=91.0.4472.164)\n"
     ]
    }
   ],
   "source": [
    "description = []\n",
    "seniority = []\n",
    "emp_type = []\n",
    "job_func = []\n",
    "industries = []\n",
    "\n",
    "for item in range(len(jobs)):\n",
    "    \n",
    "    # clicking job to view job details\n",
    "    job_click_path = f'//*[@id=\"main-content\"]/section/ul/li[{item+1}]/a/div[2]/h3'\n",
    "    \n",
    "    wd.find_element_by_xpath(job_click_path).click()\n",
    "    time.sleep(5)\n",
    "    \n",
    "    # get job description\n",
    "    jd_path = f'//*[@id=\"main-content\"]/section[1]/section[3]/div/section/div'\n",
    "    jd = wd.find_element_by_xpath(path).get_attribute(\"innerText\"))\n",
    "    description = description.append(jd)\n",
    "    \n",
    "    # get seniority level\n",
    "    seniority_path = f'//*[@id=\"main-content\"]/section[1]/section[3]/ul/li[1]/span'\n",
    "    seniority_text = wd.find_element_by_xpath(seniority_path).get_attribute(\"innerText\")\n",
    "    seniority = seniority.append(seniority_text)\n",
    "    \n",
    "    # get employment type\n",
    "    employment_path = f'//*[@id=\"main-content\"]/section[1]/section[3]/ul/li[2]/span'\n",
    "    employment_text = wd.find_element_by_xpath(employment_path).get_attribute(\"innerText\")\n",
    "    emp_type = emp_type.append(employment_text)\n",
    "    \n",
    "    # get job functioning\n",
    "    jf_path = f'//*[@id=\"main-content\"]/section[1]/section[3]/ul/li[3]/span'\n",
    "    jf_text = wd.find_element_by_xpath(jf_path).get_attribute(\"innerText\")\n",
    "    job_func = job_func.append(jf_text)\n",
    "        \n",
    "    # get job industry\n",
    "    ind_path = f'//*[@id=\"main-content\"]/section[1]/section[3]/ul/li[4]/span'\n",
    "    ind_text = wd.find_element_by_xpath(ind_path).get_attribute(\"innerText\")\n",
    "    industries = industries.append(ind_text)"
   ]
  },
  {
   "cell_type": "code",
   "execution_count": 33,
   "id": "8c7d8e0a-9f60-4e3b-89b8-00bb53a6750f",
   "metadata": {},
   "outputs": [],
   "source": [
    "seniority_text = wd.find_element_by_class_name(\"description__job-criteria-text\")"
   ]
  },
  {
   "cell_type": "code",
   "execution_count": 34,
   "id": "3093fa79-aff0-442e-b4ed-0d05b8542ebd",
   "metadata": {},
   "outputs": [
    {
     "data": {
      "text/plain": [
       "'Entry level'"
      ]
     },
     "execution_count": 34,
     "metadata": {},
     "output_type": "execute_result"
    }
   ],
   "source": [
    "seniority_text.get_attribute(\"innerText\")"
   ]
  },
  {
   "cell_type": "code",
   "execution_count": 38,
   "id": "ef4edf58-7865-4712-aea8-9c91dfe65df4",
   "metadata": {},
   "outputs": [],
   "source": [
    "employment_text = wd.find_element_by_class_name(\"description__job-criteria-text\")"
   ]
  },
  {
   "cell_type": "code",
   "execution_count": 36,
   "id": "349d4d1f-e6a4-457d-8f16-b861961ae536",
   "metadata": {},
   "outputs": [
    {
     "data": {
      "text/plain": [
       "'Entry level'"
      ]
     },
     "execution_count": 36,
     "metadata": {},
     "output_type": "execute_result"
    }
   ],
   "source": [
    "employment_text.get_attribute(\"innerText\")"
   ]
  },
  {
   "cell_type": "code",
   "execution_count": 15,
   "id": "7fb87fa6-bb17-41ef-9e2e-813b067fcb10",
   "metadata": {},
   "outputs": [
    {
     "name": "stdout",
     "output_type": "stream",
     "text": [
      "Information Technology and Services, Computer Software, and Human Resources\n"
     ]
    }
   ],
   "source": [
    "xpath = f'//*[@id=\"main-content\"]/section[1]/section[3]/ul/li[4]/span'\n",
    "\n",
    "content = wd.find_element_by_xpath(xpath)\n",
    "print(content.get_attribute(\"innerText\"))"
   ]
  },
  {
   "cell_type": "code",
   "execution_count": 41,
   "id": "828b6070-a580-429a-b866-3736a9c48348",
   "metadata": {},
   "outputs": [
    {
     "data": {
      "text/plain": [
       "'LinkedIn'"
      ]
     },
     "execution_count": 41,
     "metadata": {},
     "output_type": "execute_result"
    }
   ],
   "source": [
    "content.get_attribute(\"innerText\")"
   ]
  },
  {
   "cell_type": "code",
   "execution_count": 29,
   "id": "0322aa7e-84de-4d3d-8344-6279a8a258b9",
   "metadata": {},
   "outputs": [],
   "source": [
    "job_click_path = f'//*[@id=\"main-content\"]/section/ul/li[1]/a/div[2]/h3'\n",
    "    \n",
    "wd.find_element_by_xpath(job_click_path).click()"
   ]
  },
  {
   "cell_type": "code",
   "execution_count": 39,
   "id": "07541362-c358-4811-b0db-215bcc9988cb",
   "metadata": {},
   "outputs": [],
   "source": [
    "ind_path = f'//*[@id=\"main-content\"]/section[1]/section[3]/ul/li[4]/span'\n",
    "ind_text = wd.find_element_by_xpath(ind_path).get_attribute(\"innerText\")"
   ]
  },
  {
   "cell_type": "code",
   "execution_count": 40,
   "id": "090ce89a-1d6e-4eb8-b84f-9e18da30d795",
   "metadata": {},
   "outputs": [
    {
     "name": "stdout",
     "output_type": "stream",
     "text": [
      "Information Technology and Services, Computer Software, and Human Resources\n"
     ]
    }
   ],
   "source": [
    "print(ind_text)"
   ]
  },
  {
   "cell_type": "code",
   "execution_count": 8,
   "id": "e9c0d5f5-b964-4d18-b79e-c69dcd418165",
   "metadata": {},
   "outputs": [],
   "source": [
    "description = []\n",
    "seniority = []\n",
    "emp_type = []\n",
    "job_func = []\n",
    "industries = []\n",
    "\n",
    "# clicking job to view job details\n",
    "job_click_path = f'//*[@id=\"main-content\"]/section/ul/li[1]/a/div[2]/h3'\n",
    "\n",
    "wd.find_element_by_xpath(job_click_path).click()\n",
    "\n",
    "# get job description\n",
    "jd_path = f'//*[@id=\"main-content\"]/section[1]/section[3]/div/section/div'\n",
    "jd = wd.find_element_by_xpath(jd_path).get_attribute(\"innerText\")\n",
    "description.append(jd)\n",
    "\n",
    "# get seniority level\n",
    "seniority_path = f'//*[@id=\"main-content\"]/section[1]/section[3]/ul/li[1]/span'\n",
    "seniority_text = wd.find_element_by_xpath(seniority_path).get_attribute(\"innerText\")\n",
    "seniority.append(seniority_text)\n",
    "\n",
    "# get employment type\n",
    "employment_path = f'//*[@id=\"main-content\"]/section[1]/section[3]/ul/li[2]/span'\n",
    "employment_text = wd.find_element_by_xpath(employment_path).get_attribute(\"innerText\")\n",
    "emp_type.append(employment_text)\n",
    "\n",
    "# get job functioning\n",
    "jf_path = f'//*[@id=\"main-content\"]/section[1]/section[3]/ul/li[3]/span'\n",
    "jf_text = wd.find_element_by_xpath(jf_path).get_attribute(\"innerText\")\n",
    "job_func.append(jf_text)\n",
    "\n",
    "# get job industry\n",
    "ind_path = f'//*[@id=\"main-content\"]/section[1]/section[3]/ul/li[4]/span'\n",
    "ind_text = wd.find_element_by_xpath(ind_path).get_attribute(\"innerText\")\n",
    "industries.append(ind_text)"
   ]
  },
  {
   "cell_type": "code",
   "execution_count": 19,
   "id": "c675dc9a-148c-4204-81a3-cd8367b368dd",
   "metadata": {},
   "outputs": [
    {
     "data": {
      "text/plain": [
       "['Management and Manufacturing']"
      ]
     },
     "execution_count": 19,
     "metadata": {},
     "output_type": "execute_result"
    }
   ],
   "source": [
    "job_func"
   ]
  },
  {
   "cell_type": "code",
   "execution_count": null,
   "id": "ae0c4c8f-718c-4e12-b316-2d51fc621327",
   "metadata": {},
   "outputs": [],
   "source": []
  }
 ],
 "metadata": {
  "kernelspec": {
   "display_name": "Python 3",
   "language": "python",
   "name": "python3"
  },
  "language_info": {
   "codemirror_mode": {
    "name": "ipython",
    "version": 3
   },
   "file_extension": ".py",
   "mimetype": "text/x-python",
   "name": "python",
   "nbconvert_exporter": "python",
   "pygments_lexer": "ipython3",
   "version": "3.8.10"
  }
 },
 "nbformat": 4,
 "nbformat_minor": 5
}
